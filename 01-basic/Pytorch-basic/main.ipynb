{
  "nbformat": 4,
  "nbformat_minor": 0,
  "metadata": {
    "colab": {
      "name": "main.ipynb",
      "version": "0.3.2",
      "provenance": [],
      "collapsed_sections": [],
      "include_colab_link": true
    },
    "kernelspec": {
      "name": "python3",
      "display_name": "Python 3"
    },
    "accelerator": "GPU"
  },
  "cells": [
    {
      "cell_type": "markdown",
      "metadata": {
        "id": "view-in-github",
        "colab_type": "text"
      },
      "source": [
        "<a href=\"https://colab.research.google.com/github/Bryce1010/-/blob/master/01-basic/Pytorch-basic/main.ipynb\" target=\"_parent\"><img src=\"https://colab.research.google.com/assets/colab-badge.svg\" alt=\"Open In Colab\"/></a>"
      ]
    },
    {
      "metadata": {
        "id": "_PUzZVzL6KWk",
        "colab_type": "code",
        "colab": {
          "base_uri": "https://localhost:8080/",
          "height": 67
        },
        "outputId": "ab7ff416-f1d6-48f5-9883-d7fecd3aba51"
      },
      "cell_type": "code",
      "source": [
        "import torch \n",
        "import torchvision\n",
        "import torch.nn as nn\n",
        "import numpy as np\n",
        "import torchvision.transforms as transforms\n",
        "\n",
        "\n",
        "# ================================================================== #\n",
        "#                         Table of Contents                          #\n",
        "# ================================================================== #\n",
        "\n",
        "# 1. Basic autograd example 1               (Line 25 to 39)\n",
        "# 2. Basic autograd example 2               (Line 46 to 83)\n",
        "# 3. Loading data from numpy                (Line 90 to 97)\n",
        "# 4. Input pipline                          (Line 104 to 129)\n",
        "# 5. Input pipline for custom dataset       (Line 136 to 156)\n",
        "# 6. Pretrained model                       (Line 163 to 176)\n",
        "# 7. Save and load model                    (Line 183 to 189) \n",
        "\n",
        "\n",
        "\n",
        "\n",
        "\n",
        "\n",
        "# ================================================================== #\n",
        "#                     1. Basic autograd example 1                    #\n",
        "# ================================================================== #\n",
        "\n",
        "\n",
        "\n",
        "\n",
        "\n",
        "# Create tensors\n",
        "x=torch.tensor(1.,requires_grad=True)\n",
        "w=torch.tensor(2.,requires_grad=True)\n",
        "b=torch.tensor(3.,requires_grad=True)\n",
        "\n",
        "\n",
        "#Build a computational graph\n",
        "y=w*x+b\n",
        "\n",
        "#Computer gradients\n",
        "y.backward()\n",
        "\n",
        "\n",
        "# Print out the gradients\n",
        "print(x.grad)\n",
        "print(w.grad)\n",
        "print(b.grad)\n"
      ],
      "execution_count": 4,
      "outputs": [
        {
          "output_type": "stream",
          "text": [
            "tensor(2.)\n",
            "tensor(1.)\n",
            "tensor(1.)\n"
          ],
          "name": "stdout"
        }
      ]
    },
    {
      "metadata": {
        "id": "fNMUzWKp6MTT",
        "colab_type": "code",
        "colab": {
          "base_uri": "https://localhost:8080/",
          "height": 101
        },
        "outputId": "31279a25-9e8d-4b15-c41b-1f7682418c3c"
      },
      "cell_type": "code",
      "source": [
        "# ================================================================== #\n",
        "#                    2. Basic autograd example 2                     #\n",
        "# ================================================================== #\n",
        "\n",
        "\n",
        "# Create tensors of shape (10,3) and　(10,2)\n",
        "x=torch.randn(10,3)\n",
        "y=torch.randn(10,2)\n",
        "\n",
        "# Build a fully connected layer\n",
        "linear=nn.Linear(3,2)\n",
        "print(linear.weight)\n",
        "print(linear.bias)\n"
      ],
      "execution_count": 5,
      "outputs": [
        {
          "output_type": "stream",
          "text": [
            "Parameter containing:\n",
            "tensor([[ 0.1773,  0.1953,  0.1885],\n",
            "        [-0.5356, -0.2540, -0.1925]], requires_grad=True)\n",
            "Parameter containing:\n",
            "tensor([-0.4133, -0.3364], requires_grad=True)\n"
          ],
          "name": "stdout"
        }
      ]
    },
    {
      "metadata": {
        "id": "UrKUwHev9_1e",
        "colab_type": "code",
        "colab": {
          "base_uri": "https://localhost:8080/",
          "height": 34
        },
        "outputId": "ca8bb561-fd64-46cd-b331-9d918f023294"
      },
      "cell_type": "code",
      "source": [
        "# Build loss function and optimizer\n",
        "criterion=nn.MSELoss() # 均方损失函数\n",
        "optimizer=torch.optim.SGD(linear.parameters(),lr=0.01)\n",
        "\n",
        "# Forward pass\n",
        "pred=linear(x)\n",
        "\n",
        "# Compute pass\n",
        "loss=criterion(pred,y)\n",
        "print('loss:',loss.item())"
      ],
      "execution_count": 6,
      "outputs": [
        {
          "output_type": "stream",
          "text": [
            "loss: 3.2596068382263184\n"
          ],
          "name": "stdout"
        }
      ]
    },
    {
      "metadata": {
        "id": "4zm9N1y3_Tbm",
        "colab_type": "code",
        "colab": {}
      },
      "cell_type": "code",
      "source": [
        "# Backward pass.\n",
        "loss.backward()\n",
        "\n"
      ],
      "execution_count": 0,
      "outputs": []
    },
    {
      "metadata": {
        "id": "CTjV_ltQ_6hr",
        "colab_type": "code",
        "colab": {
          "base_uri": "https://localhost:8080/",
          "height": 67
        },
        "outputId": "9d39f842-795f-42d6-c6e6-e423c829ed74"
      },
      "cell_type": "code",
      "source": [
        "# Print out the gradients.\n",
        "print('dL/dW: ',linear.weight.grad)\n",
        "print('dL/dB: ',linear.bias.grad)"
      ],
      "execution_count": 10,
      "outputs": [
        {
          "output_type": "stream",
          "text": [
            "dL/dW:  tensor([[ 0.8013,  0.6247,  0.9731],\n",
            "        [-0.6444, -1.0104, -1.0978]])\n",
            "dL/dB:  tensor([-0.8906, -0.6364])\n"
          ],
          "name": "stdout"
        }
      ]
    },
    {
      "metadata": {
        "id": "5muIJxx9ATER",
        "colab_type": "code",
        "colab": {
          "base_uri": "https://localhost:8080/",
          "height": 34
        },
        "outputId": "93233795-b3b0-4d63-98d4-d6c03be6314f"
      },
      "cell_type": "code",
      "source": [
        "# 1-step gradient descent\n",
        "optimizer.step()\n",
        "\n",
        "\n",
        "# You can also perform gradient descent at the low level.\n",
        "# linear.weight.data.sub_(0.01 * linear.weight.grad.data)\n",
        "# linear.bias.data.sub_(0.01 * linear.bias.grad.data)\n",
        "\n",
        "\n",
        "# Print out the loss after 1-step gradient descent\n",
        "pred=linear(x)\n",
        "loss=criterion(pred,y)\n",
        "print('loss after 1-step optimization: ',loss.item())\n"
      ],
      "execution_count": 12,
      "outputs": [
        {
          "output_type": "stream",
          "text": [
            "loss after 1-step optimization:  3.1449742317199707\n"
          ],
          "name": "stdout"
        }
      ]
    },
    {
      "metadata": {
        "id": "5XGRz6nHA505",
        "colab_type": "code",
        "colab": {}
      },
      "cell_type": "code",
      "source": [
        "# ================================================================== #\n",
        "#                     3. Loading data from numpy                     #\n",
        "# ================================================================== #\n",
        "\n",
        "# Create a numpy array\n",
        "x=np.array([[1,2],[3,4]])\n",
        "\n",
        "# Convert the numpy array to a torch tensor\n",
        "y=torch.from_numpy(x)\n",
        "\n",
        "# Convert the torch tensor to a numpy array\n",
        "z=y.numpy()\n",
        "\n",
        "\n"
      ],
      "execution_count": 0,
      "outputs": []
    },
    {
      "metadata": {
        "id": "IT7JCbovG0Ky",
        "colab_type": "code",
        "colab": {
          "base_uri": "https://localhost:8080/",
          "height": 54
        },
        "outputId": "305aebe9-1dd9-43cc-ca14-4df3dd9c7f55"
      },
      "cell_type": "code",
      "source": [
        "# ================================================================== #\n",
        "#                         4. Input pipline                           #\n",
        "# ================================================================== #\n",
        "\n",
        "# Download and construct CIFAR-10 dataset.\n",
        "train_dataset=torchvision.datasets.CIFAR10(root='../../data',\n",
        "                                          train=True,\n",
        "                                          transform=transforms.ToTensor(),\n",
        "                                          download=True)\n",
        "\n",
        "\n",
        "\n"
      ],
      "execution_count": 15,
      "outputs": [
        {
          "output_type": "stream",
          "text": [
            "Downloading https://www.cs.toronto.edu/~kriz/cifar-10-python.tar.gz to ../../data/cifar-10-python.tar.gz\n"
          ],
          "name": "stdout"
        }
      ]
    },
    {
      "metadata": {
        "id": "oXega6vlHfc0",
        "colab_type": "code",
        "colab": {
          "base_uri": "https://localhost:8080/",
          "height": 50
        },
        "outputId": "0b379738-1df8-4bd8-89e7-e28100fe3dde"
      },
      "cell_type": "code",
      "source": [
        "# Fetch one data pair (read data from disk)\n",
        "image, label =train_dataset[0]\n",
        "print(image.size())\n",
        "print(label)"
      ],
      "execution_count": 16,
      "outputs": [
        {
          "output_type": "stream",
          "text": [
            "torch.Size([3, 32, 32])\n",
            "6\n"
          ],
          "name": "stdout"
        }
      ]
    },
    {
      "metadata": {
        "id": "zVUSlmv2HyYi",
        "colab_type": "code",
        "colab": {}
      },
      "cell_type": "code",
      "source": [
        "# data loader (this provides queues and threads in a very simple way.)\n",
        "train_loader=torch.utils.data.DataLoader(dataset=train_dataset,\n",
        "                                        batch_size=64,\n",
        "                                        shuffle=True)\n",
        "\n",
        "# When iteration starts, queue and thread start to load data from files \n",
        "data_iter=iter(train_loader)\n"
      ],
      "execution_count": 0,
      "outputs": []
    },
    {
      "metadata": {
        "id": "BwBULBNiIy2a",
        "colab_type": "code",
        "colab": {
          "base_uri": "https://localhost:8080/",
          "height": 34
        },
        "outputId": "91b9ed9b-6cca-40c1-b293-2187d4e0b8b9"
      },
      "cell_type": "code",
      "source": [
        "print(data_iter)"
      ],
      "execution_count": 20,
      "outputs": [
        {
          "output_type": "stream",
          "text": [
            "<torch.utils.data.dataloader._DataLoaderIter object at 0x7f1b628a75f8>\n"
          ],
          "name": "stdout"
        }
      ]
    },
    {
      "metadata": {
        "id": "OfdgZEMAIiLb",
        "colab_type": "code",
        "colab": {}
      },
      "cell_type": "code",
      "source": [
        "# Mini-batch images and labels\n",
        "images,labels=data_iter.next()"
      ],
      "execution_count": 0,
      "outputs": []
    },
    {
      "metadata": {
        "id": "BCzQTFtNIw1H",
        "colab_type": "code",
        "colab": {
          "base_uri": "https://localhost:8080/",
          "height": 2587
        },
        "outputId": "2e073a90-7b2c-4c65-8b4d-0a1b64bd84f3"
      },
      "cell_type": "code",
      "source": [
        "print(images,labels)"
      ],
      "execution_count": 21,
      "outputs": [
        {
          "output_type": "stream",
          "text": [
            "tensor([[[[0.1765, 0.1176, 0.1098,  ..., 0.6118, 0.5686, 0.5059],\n",
            "          [0.1804, 0.1294, 0.1451,  ..., 0.5686, 0.5294, 0.4471],\n",
            "          [0.1922, 0.1569, 0.1843,  ..., 0.3961, 0.4000, 0.4353],\n",
            "          ...,\n",
            "          [0.2196, 0.2275, 0.2353,  ..., 0.2824, 0.2824, 0.2824],\n",
            "          [0.2078, 0.2157, 0.2196,  ..., 0.2706, 0.2784, 0.2784],\n",
            "          [0.1922, 0.2000, 0.2078,  ..., 0.2627, 0.2706, 0.2706]],\n",
            "\n",
            "         [[0.1176, 0.0745, 0.0627,  ..., 0.4588, 0.4000, 0.3333],\n",
            "          [0.1176, 0.0824, 0.0902,  ..., 0.4392, 0.3922, 0.3098],\n",
            "          [0.1294, 0.0980, 0.1216,  ..., 0.3020, 0.3020, 0.3176],\n",
            "          ...,\n",
            "          [0.2157, 0.2275, 0.2353,  ..., 0.2824, 0.2824, 0.2824],\n",
            "          [0.2000, 0.2118, 0.2235,  ..., 0.2706, 0.2784, 0.2784],\n",
            "          [0.1843, 0.1961, 0.2078,  ..., 0.2667, 0.2706, 0.2745]],\n",
            "\n",
            "         [[0.0549, 0.0235, 0.0196,  ..., 0.2118, 0.1843, 0.1255],\n",
            "          [0.0549, 0.0275, 0.0392,  ..., 0.1843, 0.1608, 0.1176],\n",
            "          [0.0510, 0.0353, 0.0549,  ..., 0.1020, 0.1098, 0.1373],\n",
            "          ...,\n",
            "          [0.2392, 0.2471, 0.2471,  ..., 0.2824, 0.2824, 0.2824],\n",
            "          [0.2392, 0.2471, 0.2510,  ..., 0.2706, 0.2745, 0.2745],\n",
            "          [0.2196, 0.2275, 0.2353,  ..., 0.2588, 0.2588, 0.2588]]],\n",
            "\n",
            "\n",
            "        [[[0.0157, 0.0078, 0.0039,  ..., 0.5137, 0.5059, 0.5020],\n",
            "          [0.1176, 0.0627, 0.0235,  ..., 0.5098, 0.5020, 0.4980],\n",
            "          [0.2863, 0.2235, 0.1608,  ..., 0.5137, 0.5059, 0.5059],\n",
            "          ...,\n",
            "          [0.3294, 0.3373, 0.3412,  ..., 0.3216, 0.3255, 0.3255],\n",
            "          [0.3294, 0.3333, 0.3373,  ..., 0.3059, 0.2980, 0.2980],\n",
            "          [0.3294, 0.3216, 0.3216,  ..., 0.4118, 0.4078, 0.4235]],\n",
            "\n",
            "         [[0.0196, 0.0157, 0.0196,  ..., 0.4980, 0.4902, 0.4863],\n",
            "          [0.0980, 0.0588, 0.0275,  ..., 0.4941, 0.4863, 0.4824],\n",
            "          [0.2471, 0.2000, 0.1412,  ..., 0.4980, 0.4902, 0.4902],\n",
            "          ...,\n",
            "          [0.3294, 0.3333, 0.3373,  ..., 0.3176, 0.3255, 0.3216],\n",
            "          [0.3294, 0.3333, 0.3373,  ..., 0.3098, 0.2980, 0.2980],\n",
            "          [0.3294, 0.3176, 0.3216,  ..., 0.4118, 0.4078, 0.4235]],\n",
            "\n",
            "         [[0.0118, 0.0196, 0.0196,  ..., 0.3922, 0.3843, 0.3765],\n",
            "          [0.0275, 0.0118, 0.0039,  ..., 0.3882, 0.3804, 0.3765],\n",
            "          [0.1216, 0.0863, 0.0471,  ..., 0.3922, 0.3843, 0.3804],\n",
            "          ...,\n",
            "          [0.3216, 0.3255, 0.3294,  ..., 0.3137, 0.3137, 0.3059],\n",
            "          [0.3216, 0.3255, 0.3294,  ..., 0.3020, 0.2902, 0.2902],\n",
            "          [0.3216, 0.3098, 0.3137,  ..., 0.4039, 0.4000, 0.4157]]],\n",
            "\n",
            "\n",
            "        [[[0.6510, 0.7569, 0.7529,  ..., 0.6314, 0.6275, 0.6353],\n",
            "          [0.6784, 0.7176, 0.6824,  ..., 0.6627, 0.6549, 0.6667],\n",
            "          [0.7216, 0.7843, 0.7451,  ..., 0.6824, 0.6745, 0.6824],\n",
            "          ...,\n",
            "          [0.9804, 0.9765, 0.9882,  ..., 0.9843, 0.9765, 0.9765],\n",
            "          [1.0000, 0.9922, 1.0000,  ..., 1.0000, 0.9922, 0.9961],\n",
            "          [0.9686, 0.9608, 0.9725,  ..., 0.9686, 0.9569, 0.9608]],\n",
            "\n",
            "         [[0.6510, 0.7569, 0.7490,  ..., 0.6706, 0.6588, 0.6627],\n",
            "          [0.6784, 0.7176, 0.6863,  ..., 0.7059, 0.6941, 0.6941],\n",
            "          [0.7294, 0.7922, 0.7529,  ..., 0.7333, 0.7137, 0.7098],\n",
            "          ...,\n",
            "          [0.9804, 0.9765, 0.9922,  ..., 0.9843, 0.9765, 0.9765],\n",
            "          [1.0000, 0.9922, 1.0000,  ..., 1.0000, 0.9922, 0.9961],\n",
            "          [0.9686, 0.9608, 0.9725,  ..., 0.9686, 0.9569, 0.9608]],\n",
            "\n",
            "         [[0.6510, 0.7569, 0.7529,  ..., 0.6353, 0.6275, 0.6353],\n",
            "          [0.6784, 0.7176, 0.6863,  ..., 0.6784, 0.6627, 0.6627],\n",
            "          [0.7255, 0.7882, 0.7529,  ..., 0.7059, 0.6902, 0.6784],\n",
            "          ...,\n",
            "          [0.9804, 0.9765, 0.9922,  ..., 0.9843, 0.9765, 0.9765],\n",
            "          [1.0000, 0.9922, 1.0000,  ..., 1.0000, 0.9922, 0.9961],\n",
            "          [0.9686, 0.9608, 0.9725,  ..., 0.9686, 0.9569, 0.9608]]],\n",
            "\n",
            "\n",
            "        ...,\n",
            "\n",
            "\n",
            "        [[[0.4471, 0.4824, 0.5137,  ..., 0.3176, 0.3804, 0.6078],\n",
            "          [0.4824, 0.5059, 0.5255,  ..., 0.1922, 0.2863, 0.2863],\n",
            "          [0.4431, 0.4863, 0.5333,  ..., 0.1059, 0.2118, 0.2157],\n",
            "          ...,\n",
            "          [0.4510, 0.4980, 0.5020,  ..., 0.6000, 0.6471, 0.6706],\n",
            "          [0.5059, 0.5294, 0.4588,  ..., 0.6824, 0.7098, 0.6863],\n",
            "          [0.5686, 0.5490, 0.4627,  ..., 0.7098, 0.6549, 0.6118]],\n",
            "\n",
            "         [[0.4039, 0.4431, 0.4706,  ..., 0.2431, 0.2784, 0.4471],\n",
            "          [0.4392, 0.4627, 0.4784,  ..., 0.1569, 0.2078, 0.2275],\n",
            "          [0.4039, 0.4471, 0.4824,  ..., 0.0980, 0.1804, 0.1882],\n",
            "          ...,\n",
            "          [0.4000, 0.4549, 0.4588,  ..., 0.5333, 0.5804, 0.6039],\n",
            "          [0.4510, 0.4863, 0.4157,  ..., 0.6039, 0.6353, 0.6118],\n",
            "          [0.5059, 0.4941, 0.4196,  ..., 0.6431, 0.5804, 0.5412]],\n",
            "\n",
            "         [[0.3176, 0.3490, 0.3686,  ..., 0.1294, 0.1529, 0.2784],\n",
            "          [0.3647, 0.3647, 0.3686,  ..., 0.1020, 0.1294, 0.2000],\n",
            "          [0.3294, 0.3647, 0.3922,  ..., 0.0784, 0.1098, 0.1804],\n",
            "          ...,\n",
            "          [0.2745, 0.3373, 0.3451,  ..., 0.4118, 0.4510, 0.4863],\n",
            "          [0.3294, 0.3882, 0.3373,  ..., 0.5020, 0.5059, 0.4863],\n",
            "          [0.4118, 0.4078, 0.3490,  ..., 0.5373, 0.4549, 0.4196]]],\n",
            "\n",
            "\n",
            "        [[[0.8392, 0.8392, 0.8392,  ..., 0.8235, 0.8235, 0.8235],\n",
            "          [0.8392, 0.8392, 0.8392,  ..., 0.8235, 0.8275, 0.8275],\n",
            "          [0.8392, 0.8392, 0.8392,  ..., 0.8235, 0.8275, 0.8275],\n",
            "          ...,\n",
            "          [0.5843, 0.5137, 0.7098,  ..., 0.8157, 0.8196, 0.8196],\n",
            "          [0.6392, 0.6314, 0.6471,  ..., 0.8078, 0.8157, 0.8157],\n",
            "          [0.6549, 0.6706, 0.6431,  ..., 0.8039, 0.8078, 0.8078]],\n",
            "\n",
            "         [[0.8431, 0.8431, 0.8431,  ..., 0.8392, 0.8392, 0.8392],\n",
            "          [0.8431, 0.8431, 0.8431,  ..., 0.8392, 0.8431, 0.8431],\n",
            "          [0.8431, 0.8431, 0.8431,  ..., 0.8392, 0.8431, 0.8431],\n",
            "          ...,\n",
            "          [0.5333, 0.4627, 0.6549,  ..., 0.8039, 0.8078, 0.8078],\n",
            "          [0.5843, 0.5725, 0.5922,  ..., 0.7961, 0.8039, 0.8039],\n",
            "          [0.5882, 0.6078, 0.5804,  ..., 0.7922, 0.7961, 0.7961]],\n",
            "\n",
            "         [[0.8235, 0.8235, 0.8235,  ..., 0.8353, 0.8353, 0.8353],\n",
            "          [0.8235, 0.8235, 0.8235,  ..., 0.8353, 0.8392, 0.8392],\n",
            "          [0.8235, 0.8235, 0.8235,  ..., 0.8353, 0.8392, 0.8392],\n",
            "          ...,\n",
            "          [0.4980, 0.4275, 0.6235,  ..., 0.7843, 0.7882, 0.7882],\n",
            "          [0.5490, 0.5373, 0.5569,  ..., 0.7765, 0.7843, 0.7843],\n",
            "          [0.5569, 0.5725, 0.5490,  ..., 0.7725, 0.7765, 0.7765]]],\n",
            "\n",
            "\n",
            "        [[[0.8784, 0.8745, 0.8745,  ..., 0.8000, 0.7882, 0.7961],\n",
            "          [0.8392, 0.8314, 0.8275,  ..., 0.8078, 0.8039, 0.8039],\n",
            "          [0.8510, 0.8392, 0.8314,  ..., 0.8118, 0.8078, 0.8118],\n",
            "          ...,\n",
            "          [0.2510, 0.2510, 0.2667,  ..., 0.2275, 0.2118, 0.2078],\n",
            "          [0.2941, 0.2941, 0.2745,  ..., 0.2471, 0.2314, 0.2314],\n",
            "          [0.3412, 0.3373, 0.3765,  ..., 0.2667, 0.2667, 0.2627]],\n",
            "\n",
            "         [[0.8667, 0.8471, 0.8392,  ..., 0.8118, 0.8118, 0.8118],\n",
            "          [0.8588, 0.8353, 0.8275,  ..., 0.8000, 0.8078, 0.8118],\n",
            "          [0.8706, 0.8510, 0.8431,  ..., 0.8000, 0.8039, 0.8078],\n",
            "          ...,\n",
            "          [0.2941, 0.2902, 0.3020,  ..., 0.2471, 0.2314, 0.2392],\n",
            "          [0.3333, 0.3294, 0.3059,  ..., 0.2706, 0.2549, 0.2627],\n",
            "          [0.3608, 0.3490, 0.3843,  ..., 0.2863, 0.2824, 0.2863]],\n",
            "\n",
            "         [[0.9882, 0.9961, 0.9922,  ..., 0.9882, 0.9882, 0.9804],\n",
            "          [0.9922, 0.9961, 0.9882,  ..., 0.9804, 0.9922, 0.9882],\n",
            "          [0.9961, 0.9922, 0.9765,  ..., 0.9686, 0.9765, 0.9765],\n",
            "          ...,\n",
            "          [0.4745, 0.4667, 0.4745,  ..., 0.4000, 0.3922, 0.4039],\n",
            "          [0.5176, 0.5098, 0.4824,  ..., 0.4157, 0.4039, 0.4196],\n",
            "          [0.5373, 0.5137, 0.5373,  ..., 0.4314, 0.4314, 0.4392]]]]) tensor([1, 1, 6, 6, 8, 0, 4, 6, 3, 0, 8, 3, 6, 1, 8, 1, 2, 6, 1, 5, 3, 3, 3, 3,\n",
            "        6, 3, 3, 6, 3, 0, 4, 5, 1, 5, 4, 9, 1, 4, 1, 9, 0, 7, 8, 0, 5, 3, 6, 3,\n",
            "        7, 1, 2, 6, 5, 0, 4, 6, 0, 3, 9, 4, 6, 6, 0, 8])\n"
          ],
          "name": "stdout"
        }
      ]
    },
    {
      "metadata": {
        "id": "-cLZj1NwI5JZ",
        "colab_type": "code",
        "colab": {}
      },
      "cell_type": "code",
      "source": [
        "# Actual usage of the data loader is as below\n",
        "for images,labels in train_loader:\n",
        "  # Training code shoule be written here.\n",
        "  pass\n"
      ],
      "execution_count": 0,
      "outputs": []
    },
    {
      "metadata": {
        "id": "k0ZIny6HJU1t",
        "colab_type": "code",
        "colab": {}
      },
      "cell_type": "code",
      "source": [
        "# ================================================================== #\n",
        "#                5. Input pipline for custom dataset                 #\n",
        "# ================================================================== #\n",
        "\n",
        "\n",
        "# You should build your custom dataset as below.\n",
        "class CustomDataset(torch.utils.data.Dataset):\n",
        "  def __init__(self):\n",
        "    # TODO\n",
        "    # 1. Initialize file paths or a list of file names.\n",
        "    pass\n",
        "  def __getitem__(self,index):\n",
        "    # TODO\n",
        "    # 1. Read one data from file (e.g. using numpy.fromfile, PIL.image.open).\n",
        "    # 2. Preprocess the data (e.g. torchvision.Transform).\n",
        "    # 3. Return a data pair (e.g. image and lable).\n",
        "    pass\n",
        "  def __len__(self):\n",
        "    # You should change 0 to the total size of your dataset.\n",
        "    return 0\n",
        " \n",
        "\n",
        "# You can use the default prebuilt data loader .\n",
        "custom_dataset=CustomDataset()\n",
        "train_loader=torch.utils.data.DataLoader(dataset=custom_dataset,\n",
        "                                        batch_size=64,\n",
        "                                        shuffle=True)\n"
      ],
      "execution_count": 0,
      "outputs": []
    },
    {
      "metadata": {
        "id": "kcR-FprTJ3MJ",
        "colab_type": "code",
        "colab": {
          "base_uri": "https://localhost:8080/",
          "height": 34
        },
        "outputId": "39e114de-e841-40af-c8b9-9afe016b55c9"
      },
      "cell_type": "code",
      "source": [
        "\n",
        "# ================================================================== #\n",
        "#                        6. Pretrained model                         #\n",
        "# ================================================================== #\n",
        "\n",
        "\n",
        "# Download and load the pretrained ResNet-18\n",
        "resnet=torchvision.models.resnet18(pretrained=True)\n",
        "\n",
        "# If you want to finetune only the top layer of the model, set as below.\n",
        "for param in resnet.parameters():\n",
        "  param.requiresf_grad=False\n",
        "  \n",
        "  \n",
        "# Replace the top layer for finetuning.\n",
        "resnet.fc=nn.Linear(resnet.fc.in_features,100) # 100 is an example\n",
        "\n",
        "\n",
        "# Forward pass.\n",
        "images=torch.randn(64,3,224,224)\n",
        "outputs=resnet(images)\n",
        "print(outputs.size()) # (64,100)"
      ],
      "execution_count": 27,
      "outputs": [
        {
          "output_type": "stream",
          "text": [
            "torch.Size([64, 100])\n"
          ],
          "name": "stdout"
        }
      ]
    },
    {
      "metadata": {
        "id": "op_zGMWYOhpW",
        "colab_type": "code",
        "colab": {}
      },
      "cell_type": "code",
      "source": [
        "# ================================================================== #\n",
        "#                      7. Save and load the model                    #\n",
        "# ================================================================== #\n",
        "\n",
        "\n",
        "# Save and load the entire model.\n",
        "torch.save(resnet,'model.ckpt')\n",
        "model=torch.load('model.ckpt')\n",
        "\n",
        "# Save and load only the model parameters(recommended).\n",
        "torch.save(resnet.state_dict(),'params.ckpt')\n",
        "resnet.load_state_dict(torch.load('params.ckpt'))\n"
      ],
      "execution_count": 0,
      "outputs": []
    },
    {
      "metadata": {
        "id": "d17WJlcBP9lB",
        "colab_type": "code",
        "colab": {}
      },
      "cell_type": "code",
      "source": [
        ""
      ],
      "execution_count": 0,
      "outputs": []
    }
  ]
}