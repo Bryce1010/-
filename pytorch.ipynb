{
  "nbformat": 4,
  "nbformat_minor": 0,
  "metadata": {
    "colab": {
      "name": "pytorch.ipynb",
      "version": "0.3.2",
      "provenance": [],
      "include_colab_link": true
    },
    "kernelspec": {
      "name": "python3",
      "display_name": "Python 3"
    },
    "accelerator": "GPU"
  },
  "cells": [
    {
      "cell_type": "markdown",
      "metadata": {
        "id": "view-in-github",
        "colab_type": "text"
      },
      "source": [
        "<a href=\"https://colab.research.google.com/github/Bryce1010/-/blob/master/pytorch.ipynb\" target=\"_parent\"><img src=\"https://colab.research.google.com/assets/colab-badge.svg\" alt=\"Open In Colab\"/></a>"
      ]
    },
    {
      "metadata": {
        "id": "Lpmg3LxHYKoG",
        "colab_type": "text"
      },
      "cell_type": "markdown",
      "source": [
        ""
      ]
    },
    {
      "metadata": {
        "id": "72FIM5_GYVTb",
        "colab_type": "text"
      },
      "cell_type": "markdown",
      "source": [
        "\n",
        "## 入门\n",
        "### 张量\n",
        "Tensors类似与numpy的ndarrays ,另外还可以在GPU上利用Tensors来加速计算。\n"
      ]
    },
    {
      "metadata": {
        "id": "HoZzowz4YIWw",
        "colab_type": "code",
        "colab": {}
      },
      "cell_type": "code",
      "source": [
        "from __future__ import print_function\n",
        "import torch"
      ],
      "execution_count": 0,
      "outputs": []
    },
    {
      "metadata": {
        "id": "8Q-WeHfUV-z0",
        "colab_type": "code",
        "colab": {
          "base_uri": "https://localhost:8080/",
          "height": 286
        },
        "outputId": "de3c2840-0dae-44ac-8800-ac6e3fdaa542"
      },
      "cell_type": "code",
      "source": [
        "x=torch.Tensor(5,3)\n",
        "print(x)\n",
        "y=torch.rand(5,3)\n",
        "print(y)\n",
        "print(y.size())\n",
        "print(x+y)"
      ],
      "execution_count": 11,
      "outputs": [
        {
          "output_type": "stream",
          "text": [
            "tensor([[2.8962e-36, 0.0000e+00, 4.4842e-44],\n",
            "        [0.0000e+00,        nan, 3.6075e-01],\n",
            "        [1.6927e+22, 1.7282e-04, 4.4156e-05],\n",
            "        [4.3010e-05, 2.1782e-04, 2.1590e-04],\n",
            "        [4.2467e+21, 2.6217e+20, 1.4423e-01]])\n",
            "tensor([[0.9342, 0.0078, 0.8891],\n",
            "        [0.1477, 0.5448, 0.3882],\n",
            "        [0.5794, 0.8616, 0.2801],\n",
            "        [0.7173, 0.2945, 0.8417],\n",
            "        [0.7452, 0.6972, 0.1973]])\n",
            "torch.Size([5, 3])\n",
            "tensor([[9.3417e-01, 7.7850e-03, 8.8913e-01],\n",
            "        [1.4771e-01,        nan, 7.4892e-01],\n",
            "        [1.6927e+22, 8.6176e-01, 2.8013e-01],\n",
            "        [7.1738e-01, 2.9467e-01, 8.4192e-01],\n",
            "        [4.2467e+21, 2.6217e+20, 3.4157e-01]])\n"
          ],
          "name": "stdout"
        }
      ]
    },
    {
      "metadata": {
        "id": "ne-flLeYZeVK",
        "colab_type": "text"
      },
      "cell_type": "markdown",
      "source": [
        "## 操作"
      ]
    },
    {
      "metadata": {
        "id": "2aVWgd4EZhbe",
        "colab_type": "code",
        "colab": {
          "base_uri": "https://localhost:8080/",
          "height": 353
        },
        "outputId": "370eec74-890e-4990-e6fb-8b0e39012d70"
      },
      "cell_type": "code",
      "source": [
        "print(x+y)\n",
        "print(torch.add(x,y))\n",
        "result=torch.Tensor(5,3)\n",
        "print(torch.add(x,y,out=result))\n",
        "y.add(x)"
      ],
      "execution_count": 18,
      "outputs": [
        {
          "output_type": "stream",
          "text": [
            "tensor([[9.3417e-01, 7.7850e-03, 8.8913e-01],\n",
            "        [1.4771e-01,        nan, 7.4892e-01],\n",
            "        [1.6927e+22, 8.6176e-01, 2.8013e-01],\n",
            "        [7.1738e-01, 2.9467e-01, 8.4192e-01],\n",
            "        [4.2467e+21, 2.6217e+20, 3.4157e-01]])\n",
            "tensor([[9.3417e-01, 7.7850e-03, 8.8913e-01],\n",
            "        [1.4771e-01,        nan, 7.4892e-01],\n",
            "        [1.6927e+22, 8.6176e-01, 2.8013e-01],\n",
            "        [7.1738e-01, 2.9467e-01, 8.4192e-01],\n",
            "        [4.2467e+21, 2.6217e+20, 3.4157e-01]])\n",
            "tensor([[9.3417e-01, 7.7850e-03, 8.8913e-01],\n",
            "        [1.4771e-01,        nan, 7.4892e-01],\n",
            "        [1.6927e+22, 8.6176e-01, 2.8013e-01],\n",
            "        [7.1738e-01, 2.9467e-01, 8.4192e-01],\n",
            "        [4.2467e+21, 2.6217e+20, 3.4157e-01]])\n"
          ],
          "name": "stdout"
        },
        {
          "output_type": "execute_result",
          "data": {
            "text/plain": [
              "tensor([[9.3417e-01, 7.7850e-03, 8.8913e-01],\n",
              "        [1.4771e-01,        nan, 7.4892e-01],\n",
              "        [1.6927e+22, 8.6176e-01, 2.8013e-01],\n",
              "        [7.1738e-01, 2.9467e-01, 8.4192e-01],\n",
              "        [4.2467e+21, 2.6217e+20, 3.4157e-01]])"
            ]
          },
          "metadata": {
            "tags": []
          },
          "execution_count": 18
        }
      ]
    },
    {
      "metadata": {
        "id": "1A0FK_5-aGgN",
        "colab_type": "text"
      },
      "cell_type": "markdown",
      "source": [
        "## Numpy 转换\n",
        "将Tensor转换为numpy数组"
      ]
    },
    {
      "metadata": {
        "id": "Qe_zOe3paNZj",
        "colab_type": "code",
        "colab": {
          "base_uri": "https://localhost:8080/",
          "height": 84
        },
        "outputId": "deb36c35-754f-4314-f143-86fcc7e256ee"
      },
      "cell_type": "code",
      "source": [
        "a=torch.ones(5)\n",
        "print(a)\n",
        "b=a.numpy()\n",
        "print(b)\n",
        "a.add_(1)\n",
        "print(a)\n",
        "print(b)"
      ],
      "execution_count": 21,
      "outputs": [
        {
          "output_type": "stream",
          "text": [
            "tensor([1., 1., 1., 1., 1.])\n",
            "[1. 1. 1. 1. 1.]\n",
            "tensor([2., 2., 2., 2., 2.])\n",
            "[2. 2. 2. 2. 2.]\n"
          ],
          "name": "stdout"
        }
      ]
    },
    {
      "metadata": {
        "id": "VHNUuYS9ajH9",
        "colab_type": "text"
      },
      "cell_type": "markdown",
      "source": [
        "将numpy转换为Tensor"
      ]
    },
    {
      "metadata": {
        "id": "g0SoR56AapOb",
        "colab_type": "code",
        "colab": {
          "base_uri": "https://localhost:8080/",
          "height": 50
        },
        "outputId": "b90008f9-c92d-40c0-e2a8-80b1ca8cb71d"
      },
      "cell_type": "code",
      "source": [
        "import numpy as np\n",
        "a=np.ones(5)\n",
        "b=torch.from_numpy(a)\n",
        "np.add(a,1,out=a)\n",
        "print(a)\n",
        "print(b)"
      ],
      "execution_count": 22,
      "outputs": [
        {
          "output_type": "stream",
          "text": [
            "[2. 2. 2. 2. 2.]\n",
            "tensor([2., 2., 2., 2., 2.], dtype=torch.float64)\n"
          ],
          "name": "stdout"
        }
      ]
    },
    {
      "metadata": {
        "id": "qj7JRWsxWEuQ",
        "colab_type": "code",
        "colab": {
          "base_uri": "https://localhost:8080/",
          "height": 269
        },
        "outputId": "200f9bf5-59c5-493f-db13-1858b63f96e7"
      },
      "cell_type": "code",
      "source": [
        "x=x.cuda()\n",
        "print(x)\n",
        "y=y.cuda()\n",
        "print(y)\n",
        "print(x+y)"
      ],
      "execution_count": 23,
      "outputs": [
        {
          "output_type": "stream",
          "text": [
            "tensor([[2.8962e-36, 0.0000e+00, 4.4842e-44],\n",
            "        [0.0000e+00,        nan, 3.6075e-01],\n",
            "        [1.6927e+22, 1.7282e-04, 4.4156e-05],\n",
            "        [4.3010e-05, 2.1782e-04, 2.1590e-04],\n",
            "        [4.2467e+21, 2.6217e+20, 1.4423e-01]], device='cuda:0')\n",
            "tensor([[0.9342, 0.0078, 0.8891],\n",
            "        [0.1477, 0.5448, 0.3882],\n",
            "        [0.5794, 0.8616, 0.2801],\n",
            "        [0.7173, 0.2945, 0.8417],\n",
            "        [0.7452, 0.6972, 0.1973]], device='cuda:0')\n",
            "tensor([[9.3417e-01, 7.7850e-03, 8.8913e-01],\n",
            "        [1.4771e-01,        nan, 7.4892e-01],\n",
            "        [1.6927e+22, 8.6176e-01, 2.8013e-01],\n",
            "        [7.1738e-01, 2.9467e-01, 8.4192e-01],\n",
            "        [4.2467e+21, 2.6217e+20, 3.4157e-01]], device='cuda:0')\n"
          ],
          "name": "stdout"
        }
      ]
    },
    {
      "metadata": {
        "id": "knFTR57HWj_U",
        "colab_type": "code",
        "colab": {}
      },
      "cell_type": "code",
      "source": [
        ""
      ],
      "execution_count": 0,
      "outputs": []
    }
  ]
}